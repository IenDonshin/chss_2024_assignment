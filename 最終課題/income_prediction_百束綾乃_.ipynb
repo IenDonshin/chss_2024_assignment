{
 "cells": [
  {
   "cell_type": "markdown",
   "metadata": {},
   "source": [
    "\n",
    "# 小地域の収入推定\n",
    "\n",
    "```Data```フォルダには、小地域の収入データ(```income_district.csv```)と国勢調査の小地域集計データが格納されています。\n",
    "\n",
    "国勢調査の小地域集計データ（人口構成、労働力構成、住宅形態など）から、その地域の収入を推定することが考えられます。推定のための機械学習・深層学習モデルを構築しなさい。\n",
    "\n",
    "\n",
    "- データを観察・理解する上で、データの構造を説明しながら、適切なデータ整形を行いなさい\n",
    "- データ構造や分析結果に対して、少なくとも二つの図で可視化を行いなさい\n",
    "- モデルの精度を評価し、できるだけ精度が高いモデルを得るよう、適切な特徴量エンジニアリングやモデル選定の考えもまとめなさい\n"
   ]
  },
  {
   "cell_type": "code",
   "execution_count": 31,
   "metadata": {},
   "outputs": [
    {
     "ename": "AttributeError",
     "evalue": "'DataFrame' object has no attribute 'train_test_split'",
     "output_type": "error",
     "traceback": [
      "\u001b[1;31m---------------------------------------------------------------------------\u001b[0m",
      "\u001b[1;31mAttributeError\u001b[0m                            Traceback (most recent call last)",
      "\u001b[1;32m~\\AppData\\Local\\Temp\\ipykernel_15388\\3855653633.py\u001b[0m in \u001b[0;36m?\u001b[1;34m()\u001b[0m\n\u001b[0;32m     10\u001b[0m \u001b[1;33m\u001b[0m\u001b[0m\n\u001b[0;32m     11\u001b[0m \u001b[1;32massert\u001b[0m \u001b[0mlen\u001b[0m\u001b[1;33m(\u001b[0m\u001b[0mx\u001b[0m\u001b[1;33m)\u001b[0m \u001b[1;33m==\u001b[0m \u001b[0mlen\u001b[0m\u001b[1;33m(\u001b[0m\u001b[0my\u001b[0m\u001b[1;33m)\u001b[0m\u001b[1;33m\u001b[0m\u001b[1;33m\u001b[0m\u001b[0m\n\u001b[0;32m     12\u001b[0m \u001b[1;33m\u001b[0m\u001b[0m\n\u001b[0;32m     13\u001b[0m \u001b[1;31m#訓練データとテストデータに分割\u001b[0m\u001b[1;33m\u001b[0m\u001b[1;33m\u001b[0m\u001b[0m\n\u001b[1;32m---> 14\u001b[1;33m \u001b[0mx_train\u001b[0m\u001b[1;33m,\u001b[0m\u001b[0mx_test\u001b[0m\u001b[1;33m,\u001b[0m\u001b[0my_train\u001b[0m\u001b[1;33m,\u001b[0m\u001b[0my_test\u001b[0m \u001b[1;33m=\u001b[0m \u001b[0minc\u001b[0m\u001b[1;33m.\u001b[0m\u001b[0mtrain_test_split\u001b[0m\u001b[1;33m(\u001b[0m\u001b[0mx\u001b[0m\u001b[1;33m,\u001b[0m\u001b[0my\u001b[0m\u001b[1;33m,\u001b[0m\u001b[0mtest_size\u001b[0m\u001b[1;33m=\u001b[0m\u001b[1;36m0.3\u001b[0m\u001b[1;33m,\u001b[0m\u001b[0mstratify\u001b[0m\u001b[1;33m=\u001b[0m\u001b[0my\u001b[0m\u001b[1;33m)\u001b[0m\u001b[1;33m\u001b[0m\u001b[1;33m\u001b[0m\u001b[0m\n\u001b[0m\u001b[0;32m     15\u001b[0m \u001b[1;33m\u001b[0m\u001b[0m\n\u001b[0;32m     16\u001b[0m \u001b[1;31m#モデルを訓練データに適合\u001b[0m\u001b[1;33m\u001b[0m\u001b[1;33m\u001b[0m\u001b[0m\n\u001b[0;32m     17\u001b[0m \u001b[0mmodel\u001b[0m\u001b[1;33m.\u001b[0m\u001b[0mfit\u001b[0m\u001b[1;33m(\u001b[0m\u001b[0mx_train\u001b[0m\u001b[1;33m,\u001b[0m\u001b[0my_train\u001b[0m\u001b[1;33m)\u001b[0m\u001b[1;33m\u001b[0m\u001b[1;33m\u001b[0m\u001b[0m\n",
      "\u001b[1;32mc:\\Users\\aya-u\\anaconda3\\Lib\\site-packages\\pandas\\core\\generic.py\u001b[0m in \u001b[0;36m?\u001b[1;34m(self, name)\u001b[0m\n\u001b[0;32m   6200\u001b[0m             \u001b[1;32mand\u001b[0m \u001b[0mname\u001b[0m \u001b[1;32mnot\u001b[0m \u001b[1;32min\u001b[0m \u001b[0mself\u001b[0m\u001b[1;33m.\u001b[0m\u001b[0m_accessors\u001b[0m\u001b[1;33m\u001b[0m\u001b[1;33m\u001b[0m\u001b[0m\n\u001b[0;32m   6201\u001b[0m             \u001b[1;32mand\u001b[0m \u001b[0mself\u001b[0m\u001b[1;33m.\u001b[0m\u001b[0m_info_axis\u001b[0m\u001b[1;33m.\u001b[0m\u001b[0m_can_hold_identifiers_and_holds_name\u001b[0m\u001b[1;33m(\u001b[0m\u001b[0mname\u001b[0m\u001b[1;33m)\u001b[0m\u001b[1;33m\u001b[0m\u001b[1;33m\u001b[0m\u001b[0m\n\u001b[0;32m   6202\u001b[0m         ):\n\u001b[0;32m   6203\u001b[0m             \u001b[1;32mreturn\u001b[0m \u001b[0mself\u001b[0m\u001b[1;33m[\u001b[0m\u001b[0mname\u001b[0m\u001b[1;33m]\u001b[0m\u001b[1;33m\u001b[0m\u001b[1;33m\u001b[0m\u001b[0m\n\u001b[1;32m-> 6204\u001b[1;33m         \u001b[1;32mreturn\u001b[0m \u001b[0mobject\u001b[0m\u001b[1;33m.\u001b[0m\u001b[0m__getattribute__\u001b[0m\u001b[1;33m(\u001b[0m\u001b[0mself\u001b[0m\u001b[1;33m,\u001b[0m \u001b[0mname\u001b[0m\u001b[1;33m)\u001b[0m\u001b[1;33m\u001b[0m\u001b[1;33m\u001b[0m\u001b[0m\n\u001b[0m",
      "\u001b[1;31mAttributeError\u001b[0m: 'DataFrame' object has no attribute 'train_test_split'"
     ]
    }
   ],
   "source": [
    "#教師あり学習・回帰\n",
    "from sklearn.linear_model import LogisticRegression\n",
    "model=LogisticRegression(solver='lbfgs', multi_class='auto')\n",
    "#データの準備\n",
    "import pandas as pd\n",
    "from sklearn.model_selection import train_test_split \n",
    "inc = pd.read_csv(\"C:/Users/aya-u/chss_2024_assignment/最終課題/Data/income_district.csv\")\n",
    "x = inc.area_code\n",
    "y = inc.income_mean\n",
    "\n",
    "assert len(x) == len(y)\n",
    "\n",
    "#訓練データとテストデータに分割\n",
    "x_train,x_test,y_train,y_test = inc.train_test_split(x,y,test_size=0.3,stratify=y)\n",
    "\n",
    "#モデルを訓練データに適合\n",
    "model.fit(x_train,y_train)\n",
    "model.classes_\n",
    "\n",
    "#未知のラベルの予測\n",
    "y_predicted=model.predict(x_test)\n",
    "#予測精度の評価\n",
    "from sklearn.metrics import  assuracy_score\n",
    "accuracy_score(y_test, y_predicted)\n",
    "\n",
    "#教師あり学習の可視化\n",
    "import proplot as pplt\n",
    "fig, ax = pplt.subplots()\n",
    "\n"
   ]
  },
  {
   "cell_type": "code",
   "execution_count": 3,
   "metadata": {},
   "outputs": [
    {
     "name": "stderr",
     "output_type": "stream",
     "text": [
      "Exception in thread Thread-80 (_readerthread):\n",
      "Traceback (most recent call last):\n",
      "  File \"c:\\Users\\aya-u\\anaconda3\\Lib\\threading.py\", line 1045, in _bootstrap_inner\n",
      "    self.run()\n",
      "  File \"c:\\Users\\aya-u\\anaconda3\\Lib\\threading.py\", line 982, in run\n",
      "    self._target(*self._args, **self._kwargs)\n",
      "  File \"c:\\Users\\aya-u\\anaconda3\\Lib\\subprocess.py\", line 1597, in _readerthread\n",
      "    buffer.append(fh.read())\n",
      "                  ^^^^^^^^^\n",
      "  File \"<frozen codecs>\", line 322, in decode\n",
      "UnicodeDecodeError: 'utf-8' codec can't decode byte 0x95 in position 24: invalid start byte\n",
      "c:\\Users\\aya-u\\anaconda3\\Lib\\site-packages\\joblib\\externals\\loky\\backend\\context.py:110: UserWarning: Could not find the number of physical cores for the following reason:\n",
      "'NoneType' object has no attribute 'splitlines'\n",
      "Returning the number of logical cores instead. You can silence this warning by setting LOKY_MAX_CPU_COUNT to the number of cores you want to use.\n",
      "  warnings.warn(\n",
      "  File \"c:\\Users\\aya-u\\anaconda3\\Lib\\site-packages\\joblib\\externals\\loky\\backend\\context.py\", line 202, in _count_physical_cores\n",
      "    cpu_info = cpu_info.stdout.splitlines()\n",
      "               ^^^^^^^^^^^^^^^^^^^^^^^^^^\n",
      "c:\\Users\\aya-u\\anaconda3\\Lib\\site-packages\\sklearn\\cluster\\_kmeans.py:1429: UserWarning: KMeans is known to have a memory leak on Windows with MKL, when there are less chunks than available threads. You can avoid it by setting the environment variable OMP_NUM_THREADS=5.\n",
      "  warnings.warn(\n"
     ]
    }
   ],
   "source": [
    "#教師なし学習・クラスタリング\n",
    "from sklearn.cluster import KMeans\n",
    "#小地域の収入データを読み込む\n",
    "import pandas as pd\n",
    "inc = pd.read_csv(\"C:/Users/aya-u/chss_2024_assignment/最終課題/Data/income_district.csv\")\n",
    "#特徴量データを読み込む\n",
    "age = pd.read_csv(\"C:/Users/aya-u/chss_2024_assignment/最終課題/Data/h27_age_df.csv\")\n",
    "fam = pd.read_csv(\"C:/Users/aya-u/chss_2024_assignment/最終課題/Data/h27_family_df.csv\")\n",
    "gen = pd.read_csv(\"C:/Users/aya-u/chss_2024_assignment/最終課題/Data/h27_gender_df2.csv\")\n",
    "hus = pd.read_csv(\"C:/Users/aya-u/chss_2024_assignment/最終課題/Data/h27_house_df.csv\")\n",
    "inf = pd.read_csv(\"C:/Users/aya-u/chss_2024_assignment/最終課題/Data/h27_house_info_df.csv\")\n",
    "ind = pd.read_csv(\"C:/Users/aya-u/chss_2024_assignment/最終課題/Data/h27_indusry_df.csv\")\n",
    "job = pd.read_csv(\"C:/Users/aya-u/chss_2024_assignment/最終課題/Data/h27_job_df.csv\")\n",
    "lab = pd.read_csv(\"C:/Users/aya-u/chss_2024_assignment/最終課題/Data/h27_labor_df.csv\")\n",
    "mar = pd.read_csv(\"C:/Users/aya-u/chss_2024_assignment/最終課題/Data/h27_marriage_df.csv\")\n",
    "sta = pd.read_csv(\"C:/Users/aya-u/chss_2024_assignment/最終課題/Data/h27_work_status_df.csv\")\n",
    "\n",
    "#PCAモデルのインスタンス化とデータの変換\n",
    "model = KMeans(n_clusters=11)\n",
    "model.fit(inc)\n",
    "y_km = model.predict(inc)\n"
   ]
  },
  {
   "cell_type": "code",
   "execution_count": 32,
   "metadata": {},
   "outputs": [
    {
     "ename": "ModuleNotFoundError",
     "evalue": "No module named 'proplot'",
     "output_type": "error",
     "traceback": [
      "\u001b[1;31m---------------------------------------------------------------------------\u001b[0m",
      "\u001b[1;31mModuleNotFoundError\u001b[0m                       Traceback (most recent call last)",
      "Cell \u001b[1;32mIn[32], line 2\u001b[0m\n\u001b[0;32m      1\u001b[0m \u001b[38;5;66;03m#教師なし学習の可視化\u001b[39;00m\n\u001b[1;32m----> 2\u001b[0m \u001b[38;5;28;01mimport\u001b[39;00m \u001b[38;5;21;01mproplot\u001b[39;00m \u001b[38;5;28;01mas\u001b[39;00m \u001b[38;5;21;01mpplt\u001b[39;00m\n\u001b[0;32m      3\u001b[0m df \u001b[38;5;241m=\u001b[39m pd\u001b[38;5;241m.\u001b[39mDataFrame(data\u001b[38;5;241m=\u001b[39minc)\n\u001b[0;32m      4\u001b[0m df[\u001b[38;5;124m'\u001b[39m\u001b[38;5;124mcluster\u001b[39m\u001b[38;5;124m'\u001b[39m] \u001b[38;5;241m=\u001b[39m y_km\n",
      "\u001b[1;31mModuleNotFoundError\u001b[0m: No module named 'proplot'"
     ]
    }
   ],
   "source": [
    "#教師なし学習の可視化\n",
    "import proplot as pplt\n",
    "df = pd.DataFrame(data=inc)\n",
    "df['cluster'] = y_km\n",
    "\n",
    "#クラスタごとに色分けしてプロット\n",
    "fig,ax = pplt.subplots()\n",
    "ax.scatter(df['area_code'], df['income_mean'], c=df['cluster'], cmap='viridis')\n",
    "\n",
    "#ラベルとタイトルの設定\n",
    "ax.set_xlabel('area_code')\n",
    "ax.set_ylabel('income_mean')\n",
    "\n",
    "#グラフの表示\n",
    "fig.show()"
   ]
  },
  {
   "cell_type": "markdown",
   "metadata": {},
   "source": [
    "1：教師あり学習について\n",
    "　モデルのクラス・ハイパーパラメータ等モデルの準備、データの準備、train_test_split関数での分割、テスト用モデルをデータに当てはめる、モデルで未知のラベルを予測するという手段で行おうとしたが、データの準備段階でエラーが発生してしまい、それ以降の作業に移れなかった。可視化も同様に行うことが出来なかった。\n",
    "2：教師なし学習について\n",
    "　KMeanSをインポートし、特徴量データを用意したらn_clustersにハイパーパラメータとしてクラスタ数を設定、fit()によりモデルをデータに適合させてpredict()によりクラスタ情報取得、proplotで可視化の流れの予定であったが、proplotのインポートの際にエラーが発生してしまい、可視化を行うことができなかった。\n",
    "3：モデルの精度の評価・特徴量エンジニアリング等について\n",
    "　モデルの精度に関しては、教師ありの場合も教師なしの場合も途中でエラーが発生してしまったため比較することができない。ただ、今回用意されていたファイルの種類を多く使えば使うほど精度は上がるとみられる。特に、教師あり学習において用いたファイルの種類が少なかったため、効果的であると考える。ただし、その分過学習にもなりやすくなると考えられるため、データの選定には注意を払う必要がある。今回のデータにおいては、テキストが含まれるものがあったためテキスト処理を行ったり、特徴量スケーリングを行ったりする等の特徴量エンジニアリングを行うとより精度が高くなると考えられる。"
   ]
  }
 ],
 "metadata": {
  "kernelspec": {
   "display_name": "base",
   "language": "python",
   "name": "python3"
  },
  "language_info": {
   "codemirror_mode": {
    "name": "ipython",
    "version": 3
   },
   "file_extension": ".py",
   "mimetype": "text/x-python",
   "name": "python",
   "nbconvert_exporter": "python",
   "pygments_lexer": "ipython3",
   "version": "3.11.7"
  }
 },
 "nbformat": 4,
 "nbformat_minor": 2
}
