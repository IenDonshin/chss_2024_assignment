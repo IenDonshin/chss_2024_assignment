{
 "cells": [
  {
   "metadata": {},
   "cell_type": "markdown",
   "source": [
    "\n",
    "# 小地域の収入推定\n",
    "\n",
    "```Data```フォルダには、小地域の収入データ(```income_district.csv```)と国勢調査の小地域集計データが格納されています。\n",
    "\n",
    "国勢調査の小地域集計データ（人口構成、労働力構成、住宅形態など）から、その地域の収入を推定することが考えられます。推定のための機械学習・深層学習モデルを構築しなさい。\n",
    "\n",
    "\n",
    "- データを観察・理解する上で、データの構造を説明しながら、適切なデータ整形を行いなさい\n",
    "- データ構造や分析結果に対して、少なくとも二つの図で可視化を行いなさい\n",
    "- モデルの精度を評価し、できるだけ精度が高いモデルを得るよう、適切な特徴量エンジニアリングやモデル選定の考えもまとめなさい\n"
   ]
  },
  {
   "metadata": {
    "ExecuteTime": {
     "end_time": "2024-08-07T07:54:01.743735Z",
     "start_time": "2024-08-07T07:54:00.734875Z"
    }
   },
   "cell_type": "code",
   "source": [
    "import numpy as np\n",
    "import pandas as pd \n",
    "import matplotlib.pyplot as plt\n",
    "import seaborn as sns\n",
    "from sklearn.model_selection import train_test_split\n",
    "from sklearn.linear_model import LinearRegression\n",
    "from sklearn.metrics import mean_squared_error, r2_score"
   ],
   "outputs": [],
   "execution_count": 98
  },
  {
   "metadata": {
    "ExecuteTime": {
     "end_time": "2024-08-07T07:54:01.747701Z",
     "start_time": "2024-08-07T07:54:01.744729Z"
    }
   },
   "cell_type": "code",
   "source": [
    "# of no use\n",
    "# marriage = pd.read_csv('Data/h27_marriage_df.csv', index_col=0)\n",
    "# marriage.drop(['district2_id', 'level_identifier', 'state_name', 'city_name', 'district_name', 'district2_name'], axis=1,\n",
    "#          inplace=True)\n",
    "# marriage.head()"
   ],
   "outputs": [],
   "execution_count": 99
  },
  {
   "metadata": {
    "ExecuteTime": {
     "end_time": "2024-08-07T07:54:01.754435Z",
     "start_time": "2024-08-07T07:54:01.748704Z"
    }
   },
   "cell_type": "code",
   "source": [
    "# ignore, partly represented by job\n",
    "# industry = pd.read_csv('Data/h27_indusry_df.csv', index_col=0)\n",
    "# industry.drop(['district2_id', 'level_identifier', 'state_name', 'city_name', 'district_name', 'district2_name'], axis=1, inplace=True)\n",
    "# industry.head()"
   ],
   "outputs": [],
   "execution_count": 100
  },
  {
   "metadata": {
    "ExecuteTime": {
     "end_time": "2024-08-07T07:54:01.760959Z",
     "start_time": "2024-08-07T07:54:01.756426Z"
    }
   },
   "cell_type": "code",
   "source": [
    "# ignore, family cannot influence income\n",
    "# family = pd.read_csv('Data/h27_family_df.csv',index_col=0)\n",
    "# family.drop(['district2_id', 'level_identifier', 'state_name', 'city_name', 'district_name', 'district2_name'], axis=1, inplace=True)\n",
    "# family.head()"
   ],
   "outputs": [],
   "execution_count": 101
  },
  {
   "metadata": {
    "ExecuteTime": {
     "end_time": "2024-08-07T07:54:01.768089Z",
     "start_time": "2024-08-07T07:54:01.761958Z"
    }
   },
   "cell_type": "code",
   "source": [
    "# more labor will not result in higher average income, I quit this \n",
    "# labor = pd.read_csv('Data/h27_labor_df.csv', index_col=0)\n",
    "# labor.drop(['district2_id', 'level_identifier', 'state_name', 'city_name', 'district_name', 'district2_name'], axis=1,\n",
    "#          inplace=True)\n",
    "# labor.head()"
   ],
   "outputs": [],
   "execution_count": 102
  },
  {
   "metadata": {
    "ExecuteTime": {
     "end_time": "2024-08-07T07:54:01.774559Z",
     "start_time": "2024-08-07T07:54:01.769082Z"
    }
   },
   "cell_type": "code",
   "source": [
    "#ignore, the same reason as house \n",
    "# house_info = pd.read_csv('Data/h27_house_info_df.csv', index_col=0)\n",
    "# house_info.drop(['district2_id', 'level_identifier', 'state_name', 'city_name', 'district_name', 'district2_name'], axis=1, inplace=True)\n",
    "# house_info.head()"
   ],
   "outputs": [],
   "execution_count": 103
  },
  {
   "metadata": {
    "ExecuteTime": {
     "end_time": "2024-08-07T07:54:01.782146Z",
     "start_time": "2024-08-07T07:54:01.776557Z"
    }
   },
   "cell_type": "code",
   "source": [
    "# ignore, the outcome of income, not cause\n",
    "# house = pd.read_csv('Data/h27_house_df.csv', index_col=0)\n",
    "# house.drop(['district2_id', 'level_identifier', 'state_name', 'city_name', 'district_name', 'district2_name'], axis=1, inplace=True)\n",
    "# house.head()"
   ],
   "outputs": [],
   "execution_count": 104
  },
  {
   "metadata": {
    "ExecuteTime": {
     "end_time": "2024-08-07T07:54:01.789308Z",
     "start_time": "2024-08-07T07:54:01.783142Z"
    }
   },
   "cell_type": "code",
   "source": [
    "# ignore\n",
    "# status = pd.read_csv('Data/h27_work_status_df.csv', index_col=0)\n",
    "# status.drop(['district2_id', 'level_identifier', 'state_name', 'city_name', 'district_name', 'district2_name'], axis=1,\n",
    "#          inplace=True)\n",
    "# status.head()"
   ],
   "outputs": [],
   "execution_count": 105
  },
  {
   "metadata": {
    "ExecuteTime": {
     "end_time": "2024-08-07T07:54:01.803187Z",
     "start_time": "2024-08-07T07:54:01.790312Z"
    }
   },
   "cell_type": "code",
   "source": [
    "income = pd.read_csv('Data/income_district.csv', index_col=0)\n",
    "income.index.name = 'district_id'\n",
    "income.head()"
   ],
   "outputs": [
    {
     "data": {
      "text/plain": [
       "             income_mean\n",
       "district_id             \n",
       "13228         480.984419\n",
       "43514         439.775281\n",
       "23237         487.507769\n",
       "18208         505.495103\n",
       "12238         385.423846"
      ],
      "text/html": [
       "<div>\n",
       "<style scoped>\n",
       "    .dataframe tbody tr th:only-of-type {\n",
       "        vertical-align: middle;\n",
       "    }\n",
       "\n",
       "    .dataframe tbody tr th {\n",
       "        vertical-align: top;\n",
       "    }\n",
       "\n",
       "    .dataframe thead th {\n",
       "        text-align: right;\n",
       "    }\n",
       "</style>\n",
       "<table border=\"1\" class=\"dataframe\">\n",
       "  <thead>\n",
       "    <tr style=\"text-align: right;\">\n",
       "      <th></th>\n",
       "      <th>income_mean</th>\n",
       "    </tr>\n",
       "    <tr>\n",
       "      <th>district_id</th>\n",
       "      <th></th>\n",
       "    </tr>\n",
       "  </thead>\n",
       "  <tbody>\n",
       "    <tr>\n",
       "      <th>13228</th>\n",
       "      <td>480.984419</td>\n",
       "    </tr>\n",
       "    <tr>\n",
       "      <th>43514</th>\n",
       "      <td>439.775281</td>\n",
       "    </tr>\n",
       "    <tr>\n",
       "      <th>23237</th>\n",
       "      <td>487.507769</td>\n",
       "    </tr>\n",
       "    <tr>\n",
       "      <th>18208</th>\n",
       "      <td>505.495103</td>\n",
       "    </tr>\n",
       "    <tr>\n",
       "      <th>12238</th>\n",
       "      <td>385.423846</td>\n",
       "    </tr>\n",
       "  </tbody>\n",
       "</table>\n",
       "</div>"
      ]
     },
     "execution_count": 106,
     "metadata": {},
     "output_type": "execute_result"
    }
   ],
   "execution_count": 106
  },
  {
   "metadata": {
    "ExecuteTime": {
     "end_time": "2024-08-07T07:54:06.586951Z",
     "start_time": "2024-08-07T07:54:01.805180Z"
    }
   },
   "cell_type": "code",
   "source": [
    "age= pd.read_csv('Data/h27_age_df.csv', index_col=0)\n",
    "age.drop(['district2_id', 'level_identifier', 'state_name', 'city_name', 'district_name', 'district2_name'], axis=1, inplace=True)\n",
    "age = age.iloc[:, 0:19]\n",
    "age.replace('-', 0, inplace=True)\n",
    "age.replace('X', 0, inplace=True)\n",
    "age = age.apply(pd.to_numeric)\n",
    "age = age.groupby('district_id').sum()\n",
    "age['10-24'] = age.iloc[:, 0:3].sum(axis=1)\n",
    "age['25-65'] = age.iloc[:, 3:10].sum(axis=1)\n",
    "age['65-100'] = age.iloc[:, 10:18].sum(axis=1)\n",
    "age1 = age[['10-24','25-65','65-100']]\n",
    "age1.head()"
   ],
   "outputs": [
    {
     "data": {
      "text/plain": [
       "              10-24   25-65  65-100\n",
       "district_id                        \n",
       "1101          93929  367568  193104\n",
       "1102         131047  376469  265375\n",
       "1103         108694  372350  236721\n",
       "1104          79630  311448  183211\n",
       "1105          88274  321206  196055"
      ],
      "text/html": [
       "<div>\n",
       "<style scoped>\n",
       "    .dataframe tbody tr th:only-of-type {\n",
       "        vertical-align: middle;\n",
       "    }\n",
       "\n",
       "    .dataframe tbody tr th {\n",
       "        vertical-align: top;\n",
       "    }\n",
       "\n",
       "    .dataframe thead th {\n",
       "        text-align: right;\n",
       "    }\n",
       "</style>\n",
       "<table border=\"1\" class=\"dataframe\">\n",
       "  <thead>\n",
       "    <tr style=\"text-align: right;\">\n",
       "      <th></th>\n",
       "      <th>10-24</th>\n",
       "      <th>25-65</th>\n",
       "      <th>65-100</th>\n",
       "    </tr>\n",
       "    <tr>\n",
       "      <th>district_id</th>\n",
       "      <th></th>\n",
       "      <th></th>\n",
       "      <th></th>\n",
       "    </tr>\n",
       "  </thead>\n",
       "  <tbody>\n",
       "    <tr>\n",
       "      <th>1101</th>\n",
       "      <td>93929</td>\n",
       "      <td>367568</td>\n",
       "      <td>193104</td>\n",
       "    </tr>\n",
       "    <tr>\n",
       "      <th>1102</th>\n",
       "      <td>131047</td>\n",
       "      <td>376469</td>\n",
       "      <td>265375</td>\n",
       "    </tr>\n",
       "    <tr>\n",
       "      <th>1103</th>\n",
       "      <td>108694</td>\n",
       "      <td>372350</td>\n",
       "      <td>236721</td>\n",
       "    </tr>\n",
       "    <tr>\n",
       "      <th>1104</th>\n",
       "      <td>79630</td>\n",
       "      <td>311448</td>\n",
       "      <td>183211</td>\n",
       "    </tr>\n",
       "    <tr>\n",
       "      <th>1105</th>\n",
       "      <td>88274</td>\n",
       "      <td>321206</td>\n",
       "      <td>196055</td>\n",
       "    </tr>\n",
       "  </tbody>\n",
       "</table>\n",
       "</div>"
      ]
     },
     "execution_count": 107,
     "metadata": {},
     "output_type": "execute_result"
    }
   ],
   "execution_count": 107
  },
  {
   "metadata": {
    "ExecuteTime": {
     "end_time": "2024-08-07T07:54:06.591566Z",
     "start_time": "2024-08-07T07:54:06.587945Z"
    }
   },
   "cell_type": "code",
   "source": [
    "# temporily do not use\n",
    "# gender = pd.read_csv('Data/h27_gender_df2.csv', index_col=0)\n",
    "# gender.drop(['district2_id', 'level_identifier', 'state_name', 'city_name', 'district_name', 'district2_name'], axis=1, inplace=True)\n",
    "# gender.replace('-', 0, inplace=True)\n",
    "# gender.replace('X', 0, inplace=True)\n",
    "# gender.drop('family_count', axis=1, inplace=True)\n",
    "# gender = gender.apply(pd.to_numeric)\n",
    "# gender = gender.groupby('district_id').sum()\n",
    "# gender.drop('population', axis=1, inplace=True)\n",
    "# gender.head()"
   ],
   "outputs": [],
   "execution_count": 108
  },
  {
   "metadata": {
    "ExecuteTime": {
     "end_time": "2024-08-07T07:54:10.835725Z",
     "start_time": "2024-08-07T07:54:06.592564Z"
    }
   },
   "cell_type": "code",
   "source": [
    "job = pd.read_csv('Data/h27_job_df.csv', index_col=0)\n",
    "job.drop(['district2_id', 'level_identifier', 'state_name', 'city_name', 'district_name', 'district2_name'], axis=1, inplace=True)\n",
    "job.replace('-', 0, inplace=True)\n",
    "job.replace('X', 0, inplace=True)\n",
    "job = job.apply(pd.to_numeric)\n",
    "job = job.groupby('district_id').sum()\n",
    "job['advanced_male'] = age.iloc[:, 0:3].sum(axis=1)\n",
    "job['service_male'] = age.iloc[:, 3:5].sum(axis=1)\n",
    "job['basic_male'] = age.iloc[:, 5:12].sum(axis=1)\n",
    "job['advanced_female'] = age.iloc[:, 12:15].sum(axis=1)\n",
    "job['service_female'] = age.iloc[:, 12:15].sum(axis=1)\n",
    "job['basic_female'] = age.iloc[:, 15:22].sum(axis=1)\n",
    "job1 = job[['advanced_male','service_male','basic_male', 'advanced_female', 'service_female', 'basic_female']]\n",
    "job1.head()"
   ],
   "outputs": [
    {
     "data": {
      "text/plain": [
       "             advanced_male  service_male  basic_male  advanced_female  \\\n",
       "district_id                                                             \n",
       "1101                 93929        102595      352935            81292   \n",
       "1102                131047         92209      409661           112563   \n",
       "1103                108694         97668      386695           100226   \n",
       "1104                 79630         84233      311737            79798   \n",
       "1105                 88274         88850      320061            86066   \n",
       "\n",
       "             service_female  basic_female  \n",
       "district_id                                \n",
       "1101                  81292        678827  \n",
       "1102                 112563        800611  \n",
       "1103                 100226        742543  \n",
       "1104                  79798        593416  \n",
       "1105                  86066        628068  "
      ],
      "text/html": [
       "<div>\n",
       "<style scoped>\n",
       "    .dataframe tbody tr th:only-of-type {\n",
       "        vertical-align: middle;\n",
       "    }\n",
       "\n",
       "    .dataframe tbody tr th {\n",
       "        vertical-align: top;\n",
       "    }\n",
       "\n",
       "    .dataframe thead th {\n",
       "        text-align: right;\n",
       "    }\n",
       "</style>\n",
       "<table border=\"1\" class=\"dataframe\">\n",
       "  <thead>\n",
       "    <tr style=\"text-align: right;\">\n",
       "      <th></th>\n",
       "      <th>advanced_male</th>\n",
       "      <th>service_male</th>\n",
       "      <th>basic_male</th>\n",
       "      <th>advanced_female</th>\n",
       "      <th>service_female</th>\n",
       "      <th>basic_female</th>\n",
       "    </tr>\n",
       "    <tr>\n",
       "      <th>district_id</th>\n",
       "      <th></th>\n",
       "      <th></th>\n",
       "      <th></th>\n",
       "      <th></th>\n",
       "      <th></th>\n",
       "      <th></th>\n",
       "    </tr>\n",
       "  </thead>\n",
       "  <tbody>\n",
       "    <tr>\n",
       "      <th>1101</th>\n",
       "      <td>93929</td>\n",
       "      <td>102595</td>\n",
       "      <td>352935</td>\n",
       "      <td>81292</td>\n",
       "      <td>81292</td>\n",
       "      <td>678827</td>\n",
       "    </tr>\n",
       "    <tr>\n",
       "      <th>1102</th>\n",
       "      <td>131047</td>\n",
       "      <td>92209</td>\n",
       "      <td>409661</td>\n",
       "      <td>112563</td>\n",
       "      <td>112563</td>\n",
       "      <td>800611</td>\n",
       "    </tr>\n",
       "    <tr>\n",
       "      <th>1103</th>\n",
       "      <td>108694</td>\n",
       "      <td>97668</td>\n",
       "      <td>386695</td>\n",
       "      <td>100226</td>\n",
       "      <td>100226</td>\n",
       "      <td>742543</td>\n",
       "    </tr>\n",
       "    <tr>\n",
       "      <th>1104</th>\n",
       "      <td>79630</td>\n",
       "      <td>84233</td>\n",
       "      <td>311737</td>\n",
       "      <td>79798</td>\n",
       "      <td>79798</td>\n",
       "      <td>593416</td>\n",
       "    </tr>\n",
       "    <tr>\n",
       "      <th>1105</th>\n",
       "      <td>88274</td>\n",
       "      <td>88850</td>\n",
       "      <td>320061</td>\n",
       "      <td>86066</td>\n",
       "      <td>86066</td>\n",
       "      <td>628068</td>\n",
       "    </tr>\n",
       "  </tbody>\n",
       "</table>\n",
       "</div>"
      ]
     },
     "execution_count": 109,
     "metadata": {},
     "output_type": "execute_result"
    }
   ],
   "execution_count": 109
  },
  {
   "metadata": {},
   "cell_type": "markdown",
   "source": ""
  },
  {
   "metadata": {
    "ExecuteTime": {
     "end_time": "2024-08-07T07:54:10.842684Z",
     "start_time": "2024-08-07T07:54:10.837228Z"
    }
   },
   "cell_type": "code",
   "source": "dataset = pd.concat([age1, job1], axis=1)",
   "outputs": [],
   "execution_count": 110
  },
  {
   "metadata": {
    "ExecuteTime": {
     "end_time": "2024-08-07T07:54:10.854280Z",
     "start_time": "2024-08-07T07:54:10.843677Z"
    }
   },
   "cell_type": "code",
   "source": [
    "merged = pd.merge(income, dataset, on='district_id')\n",
    "print(merged)"
   ],
   "outputs": [
    {
     "name": "stdout",
     "output_type": "stream",
     "text": [
      "             income_mean  10-24   25-65  65-100  advanced_male  service_male  \\\n",
      "district_id                                                                    \n",
      "13228         480.984419  27715   79480   63145          27715         17364   \n",
      "43514         439.775281   3522   11266   13446           3522          2438   \n",
      "23237         487.507769  29662   89979   61769          29662         20718   \n",
      "18208         505.495103   9627   30417   28751           9627          7137   \n",
      "12238         385.423846   8094   28608   35704           8094          5954   \n",
      "...                  ...    ...     ...     ...            ...           ...   \n",
      "14137         601.266088  79040  244090  141813          79040         55254   \n",
      "2204          379.073909  10629   32459   29236          10629          7314   \n",
      "16207         531.328234  10198   33806   29902          10198          7866   \n",
      "13107         512.674825  87309  401970  217770          87309        121872   \n",
      "8208          476.672694  31532   85621   59679          31532         19439   \n",
      "\n",
      "             basic_male  advanced_female  service_female  basic_female  \n",
      "district_id                                                             \n",
      "13228             88332            30342           30342        177038  \n",
      "43514             14206             5906            5906         30420  \n",
      "23237             96345            30631           30631        185512  \n",
      "18208             35750            12189           12189         72924  \n",
      "12238             36832            16388           16388         77614  \n",
      "...                 ...              ...             ...           ...  \n",
      "14137            249876            65025           65025        480937  \n",
      "2204              38214            12876           12876         75641  \n",
      "16207             38212            13568           13568         78030  \n",
      "13107            373206           102066          102066        729864  \n",
      "8208              96500            24698           24698        181572  \n",
      "\n",
      "[1238 rows x 10 columns]\n"
     ]
    }
   ],
   "execution_count": 111
  },
  {
   "metadata": {
    "ExecuteTime": {
     "end_time": "2024-08-07T08:18:34.033634Z",
     "start_time": "2024-08-07T08:18:33.999701Z"
    }
   },
   "cell_type": "code",
   "source": [
    "from sklearn.preprocessing import MinMaxScaler\n",
    "scaler = MinMaxScaler()\n",
    "scatterd_1 =  scaler.fit_transform(merged[[\"10-24\"]])\n",
    "scatterd_2 =  scaler.fit_transform(merged[[\"25-65\"]])\n",
    "scatterd_3 =  scaler.fit_transform(merged[[\"65-100\"]])\n",
    "scatterd_4 =  scaler.fit_transform(merged[[\"advanced_male\"]])\n",
    "scatterd_5 =  scaler.fit_transform(merged[[\"service_male\"]])\n",
    "scatterd_6 =  scaler.fit_transform(merged[[\"basic_male\"]])\n",
    "scatterd_7 =  scaler.fit_transform(merged[[\"advanced_female\"]])\n",
    "scatterd_8 =  scaler.fit_transform(merged[[\"service_female\"]])\n",
    "scatterd_9 =  scaler.fit_transform(merged[[\"basic_female\"]])\n",
    "scatterd_income =  scaler.fit_transform(merged[[\"income_mean\"]])\n",
    "merged2 = np.column_stack((scatterd_1, scatterd_2, scatterd_3, scatterd_4, scatterd_5, scatterd_6, scatterd_7, scatterd_8, scatterd_9, scatterd_income))\n",
    "X = merged2[:, 0:9]\n",
    "y = merged2[:, 9]\n",
    "X_train, X_test, y_train, y_test = train_test_split(X, y, test_size=0.3, random_state=42)\n",
    "model = LinearRegression()\n",
    "model.fit(X_train, y_train)\n",
    "y_pred = model.predict(X_test)\n",
    "mse = mean_squared_error(y_test, y_pred)\n",
    "r2 = r2_score(y_test, y_pred)\n",
    "print(f'Mean Squared Error: {mse}')\n",
    "print(f'R^2 Score: {r2}')\n"
   ],
   "outputs": [
    {
     "name": "stdout",
     "output_type": "stream",
     "text": [
      "Mean Squared Error: 0.014055924870374185\n",
      "R^2 Score: 0.25922237907298584\n"
     ]
    }
   ],
   "execution_count": 123
  },
  {
   "metadata": {
    "ExecuteTime": {
     "end_time": "2024-08-07T07:54:10.886013Z",
     "start_time": "2024-08-07T07:54:10.884023Z"
    }
   },
   "cell_type": "code",
   "source": "",
   "outputs": [],
   "execution_count": 112
  }
 ],
 "metadata": {
  "kernelspec": {
   "display_name": "base",
   "language": "python",
   "name": "python3"
  },
  "language_info": {
   "codemirror_mode": {
    "name": "ipython",
    "version": 3
   },
   "file_extension": ".py",
   "mimetype": "text/x-python",
   "name": "python",
   "nbconvert_exporter": "python",
   "pygments_lexer": "ipython3",
   "version": "3.9.7"
  },
  "orig_nbformat": 4
 },
 "nbformat": 4,
 "nbformat_minor": 2
}
