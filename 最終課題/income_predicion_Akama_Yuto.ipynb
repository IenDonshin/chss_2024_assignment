{
 "cells": [
  {
   "attachments": {},
   "cell_type": "markdown",
   "metadata": {},
   "source": [
    "\n",
    "# 小地域の収入推定\n",
    "\n",
    "```Data```フォルダには、小地域の収入データ(```income_district.csv```)と国勢調査の小地域集計データが格納されています。\n",
    "\n",
    "国勢調査の小地域集計データ（人口構成、労働力構成、住宅形態など）から、その地域の収入を推定することが考えられます。推定のための機械学習・深層学習モデルを構築しなさい。\n",
    "\n",
    "\n",
    "- データを観察・理解する上で、データの構造を説明しながら、適切なデータ整形を行いなさい\n",
    "- データ構造や分析結果に対して、少なくとも二つの図で可視化を行いなさい\n",
    "- モデルの精度を評価し、できるだけ精度が高いモデルを得るよう、適切な特徴量エンジニアリングやモデル選定の考えもまとめなさい\n"
   ]
  },
  {
   "cell_type": "code",
   "execution_count": 1,
   "metadata": {},
   "outputs": [],
   "source": [
    "import geopandas as gpd\n",
    "import pandas as pd\n",
    "\n",
    "# GeoJSONファイルの読み込み\n",
    "geo_data = gpd.read_file('13-tokyo-all.geojson')\n",
    "\n",
    "# 他のデータの読み込み\n",
    "directory = 'Data' # ディレクトリのパス\n",
    "\n",
    "age_data_path = f'{directory}/h27_age_df.csv'\n",
    "family_data_path = f'{directory}/h27_family_df.csv'\n",
    "gender_data_path = f'{directory}/h27_gender_df2.csv'\n",
    "housing_data_path = f'{directory}/h27_house_df.csv'\n",
    "house_info_data_path = f'{directory}/h27_house_info_df.csv'\n",
    "industry_data_path = f'{directory}/h27_indusry_df.csv'\n",
    "occupation_data_path = f'{directory}/h27_job_df.csv'\n",
    "labor_data_path = f'{directory}/h27_labor_df.csv'\n",
    "marriage_data_path = f'{directory}/h27_marriage_df.csv'\n",
    "employment_status_data_path = f'{directory}/h27_work_status_df.csv'\n",
    "income_data_path = f'{directory}/income_district.csv'\n",
    "\n",
    "age_data = pd.read_csv(age_data_path) #年齢層別人口、性別別人口などに関するデータ\n",
    "family_data = pd.read_csv(family_data_path) #家族に関するデータ \n",
    "gender_data = pd.read_csv(gender_data_path) #総人口、男女別人口などに関するデータ\n",
    "housing_data = pd.read_csv(housing_data_path) #住宅関連データ\n",
    "house_info_data = pd.read_csv(house_info_data_path) #住居の階数別データ\n",
    "industry_data = pd.read_csv(industry_data_path) #職業別男女人口データ\n",
    "occupation_data = pd.read_csv(occupation_data_path) #職業別男女人口データ（職業分類が異なる）\n",
    "labor_data = pd.read_csv(labor_data_path) #労働状況データ\n",
    "marriage_data = pd.read_csv(marriage_data_path) #結婚状況データ\n",
    "employment_status_data = pd.read_csv(employment_status_data_path) #就業形態データ\n",
    "income_data = pd.read_csv(income_data_path) #地域コードと平均収入\n",
    "\n"
   ]
  }
 ],
 "metadata": {
  "kernelspec": {
   "display_name": "base",
   "language": "python",
   "name": "python3"
  },
  "language_info": {
   "codemirror_mode": {
    "name": "ipython",
    "version": 3
   },
   "file_extension": ".py",
   "mimetype": "text/x-python",
   "name": "python",
   "nbconvert_exporter": "python",
   "pygments_lexer": "ipython3",
   "version": "3.11.5"
  },
  "orig_nbformat": 4
 },
 "nbformat": 4,
 "nbformat_minor": 2
}
