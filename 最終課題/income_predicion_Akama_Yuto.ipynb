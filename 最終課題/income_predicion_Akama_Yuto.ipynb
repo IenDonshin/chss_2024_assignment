{
 "cells": [
  {
   "attachments": {},
   "cell_type": "markdown",
   "metadata": {},
   "source": [
    "\n",
    "# 小地域の収入推定\n",
    "\n",
    "```Data```フォルダには、小地域の収入データ(```income_district.csv```)と国勢調査の小地域集計データが格納されています。\n",
    "\n",
    "国勢調査の小地域集計データ（人口構成、労働力構成、住宅形態など）から、その地域の収入を推定することが考えられます。推定のための機械学習・深層学習モデルを構築しなさい。\n",
    "\n",
    "\n",
    "- データを観察・理解する上で、データの構造を説明しながら、適切なデータ整形を行いなさい\n",
    "- データ構造や分析結果に対して、少なくとも二つの図で可視化を行いなさい\n",
    "- モデルの精度を評価し、できるだけ精度が高いモデルを得るよう、適切な特徴量エンジニアリングやモデル選定の考えもまとめなさい\n"
   ]
  },
  {
   "cell_type": "code",
   "execution_count": 5,
   "metadata": {},
   "outputs": [],
   "source": [
    "import pandas as pd\n",
    "\n",
    "# ファイルの選択\n",
    "directory = 'Data' # ディレクトリのパス\n",
    "\n",
    "age_data_path = f'{directory}/h27_age_df.csv'\n",
    "family_data_path = f'{directory}/h27_family_df.csv'\n",
    "gender_data_path = f'{directory}/h27_gender_df2.csv'\n",
    "housing_data_path = f'{directory}/h27_house_df.csv'\n",
    "house_info_data_path = f'{directory}/h27_house_info_df.csv'\n",
    "industry_data_path = f'{directory}/h27_indusry_df.csv'\n",
    "occupation_data_path = f'{directory}/h27_job_df.csv'\n",
    "labor_data_path = f'{directory}/h27_labor_df.csv'\n",
    "marriage_data_path = f'{directory}/h27_marriage_df.csv'\n",
    "employment_status_data_path = f'{directory}/h27_work_status_df.csv'\n",
    "income_data_path = f'{directory}/income_district.csv'\n",
    "\n",
    "age_data = pd.read_csv(age_data_path) #年齢層別人口、性別別人口などに関するデータ\n",
    "family_data = pd.read_csv(family_data_path) #家族に関するデータ \n",
    "gender_data = pd.read_csv(gender_data_path) #総人口、男女別人口などに関するデータ\n",
    "housing_data = pd.read_csv(housing_data_path) #住宅関連データ\n",
    "house_info_data = pd.read_csv(house_info_data_path) #住居の階数別データ\n",
    "industry_data = pd.read_csv(industry_data_path) #職業別男女人口データ\n",
    "occupation_data = pd.read_csv(occupation_data_path) #職業別男女人口データ（職業分類が異なる）\n",
    "labor_data = pd.read_csv(labor_data_path) #労働状況データ\n",
    "marriage_data = pd.read_csv(marriage_data_path) #結婚状況データ\n",
    "employment_status_data = pd.read_csv(employment_status_data_path) #就業形態データ\n",
    "income_data = pd.read_csv(income_data_path) #地域コードと平均収入"
   ]
  },
  {
   "cell_type": "code",
   "execution_count": 6,
   "metadata": {},
   "outputs": [],
   "source": [
    "# データフレームを結合する\n",
    "# age_data,family_data\n",
    "merged_data = pd.merge(age_data, family_data, on=['district_id', 'district2_id', 'level_identifier', 'state_name', 'city_name', 'district_name', 'district2_name'], how='left')\n",
    "\n",
    "# 全てのデータ\n",
    "merged_data = pd.merge(merged_data, gender_data, on=['district_id', 'district2_id', 'level_identifier', 'state_name', 'city_name', 'district_name', 'district2_name'], how='left')\n",
    "merged_data = pd.merge(merged_data, housing_data, on=['district_id', 'district2_id', 'level_identifier', 'state_name', 'city_name', 'district_name', 'district2_name'], how='left')\n",
    "merged_data = pd.merge(merged_data, house_info_data, on=['district_id', 'district2_id', 'level_identifier', 'state_name', 'city_name', 'district_name', 'district2_name'], how='left')\n",
    "merged_data = pd.merge(merged_data, industry_data, on=['district_id', 'district2_id', 'level_identifier', 'state_name', 'city_name', 'district_name', 'district2_name'], how='left')\n",
    "merged_data = pd.merge(merged_data, occupation_data, on=['district_id', 'district2_id', 'level_identifier', 'state_name', 'city_name', 'district_name', 'district2_name'], how='left')\n",
    "merged_data = pd.merge(merged_data, labor_data, on=['district_id', 'district2_id', 'level_identifier', 'state_name', 'city_name', 'district_name', 'district2_name'], how='left')\n",
    "merged_data = pd.merge(merged_data, marriage_data, on=['district_id', 'district2_id', 'level_identifier', 'state_name', 'city_name', 'district_name', 'district2_name'], how='left')\n",
    "merged_data = pd.merge(merged_data, employment_status_data, on=['district_id', 'district2_id', 'level_identifier', 'state_name', 'city_name', 'district_name', 'district2_name'], how='left')\n",
    "merged_data = pd.merge(merged_data, income_data, left_on=['district_id'], right_on=['area_code'], how='left')\n",
    "\n",
    "# 結合結果の確認\n",
    "#merged_data.head()\n",
    "\n",
    "# データをCSVファイルとして保存\n",
    "#merged_data.to_csv('your_data_file.csv', index=False)"
   ]
  },
  {
   "cell_type": "code",
   "execution_count": 11,
   "metadata": {},
   "outputs": [],
   "source": [
    "# 数値型の列だけを対象にする\n",
    "numeric_cols = merged_data.select_dtypes(include=['number']).columns\n",
    "for column in numeric_cols:\n",
    "    # 無効なデータを NaN に変換\n",
    "    merged_data[column] = pd.to_numeric(merged_data[column], errors='coerce')\n",
    "\n",
    "# 欠損値の処理\n",
    "merged_data[numeric_cols] = merged_data[numeric_cols].fillna(merged_data[numeric_cols].median())\n"
   ]
  },
  {
   "cell_type": "code",
   "execution_count": 12,
   "metadata": {},
   "outputs": [
    {
     "ename": "",
     "evalue": "",
     "output_type": "error",
     "traceback": [
      "\u001b[1;31m現在のセルまたは前のセルでコードを実行中に、カーネル (Kernel) がクラッシュしました。\n",
      "\u001b[1;31mエラーの原因を特定するには、セル内のコードを確認してください。\n",
      "\u001b[1;31m詳細については<a href='https://aka.ms/vscodeJupyterKernelCrash'>こちら</a>をクリックします。\n",
      "\u001b[1;31m詳細については、Jupyter <a href='command:jupyter.viewOutput'>ログ</a> を参照してください。"
     ]
    }
   ],
   "source": [
    "from sklearn.model_selection import train_test_split\n",
    "from sklearn.linear_model import LinearRegression\n",
    "from sklearn.metrics import mean_squared_error, r2_score\n",
    "from sklearn.preprocessing import LabelEncoder, StandardScaler\n",
    "from sklearn.feature_selection import SelectKBest, f_regression\n",
    "import matplotlib.pyplot as plt\n",
    "\n",
    "from sklearn.impute import KNNImputer\n",
    "\n",
    "# 数値型の列だけを対象にする\n",
    "numeric_cols = merged_data.select_dtypes(include=['number']).columns\n",
    "\n",
    "# k-NN補完\n",
    "knn_imputer = KNNImputer(n_neighbors=5)  # kの値（近傍数）を指定\n",
    "merged_data[numeric_cols] = knn_imputer.fit_transform(merged_data[numeric_cols])\n",
    "\n",
    "# ワンホットエンコーディング\n",
    "merged_data_encoded = pd.get_dummies(merged_data, columns=['state_name', 'city_name', 'district_name', 'district2_name'])\n",
    "\n",
    "# 特徴量とターゲットの分離\n",
    "X = merged_data_encoded.drop(['income_mean'], axis=1)\n",
    "y = merged_data_encoded['income_mean']\n",
    "\n",
    "# データの標準化\n",
    "scaler = StandardScaler()\n",
    "X_standarized = scaler.fit_transform(X)\n",
    "\n",
    "# データの分割\n",
    "X_train, X_test, y_train, y_test = train_test_split(X_standarized, y, test_size=0.3, random_state=42)\n",
    "\n",
    "# モデルの訓練\n",
    "model = LinearRegression()\n",
    "model.fit(X_train, y_train)\n",
    "\n",
    "# 予測\n",
    "y_pred = model.predict(X_test)\n",
    "\n",
    "# モデルの評価\n",
    "mse = mean_squared_error(y_test, y_pred)\n",
    "r2 = r2_score(y_test, y_pred)\n",
    "\n",
    "print(f'Mean Squared Error: {mse}')\n",
    "print(f'R^2 Score: {r2}')\n",
    "\n",
    "# 予測結果のプロット\n",
    "plt.scatter(y_test, y_pred)\n",
    "plt.xlabel('Actual Income')\n",
    "plt.ylabel('Predicted Income')\n",
    "plt.title('Actual vs Predicted Income')\n",
    "plt.show()\n"
   ]
  }
 ],
 "metadata": {
  "kernelspec": {
   "display_name": "base",
   "language": "python",
   "name": "python3"
  },
  "language_info": {
   "codemirror_mode": {
    "name": "ipython",
    "version": 3
   },
   "file_extension": ".py",
   "mimetype": "text/x-python",
   "name": "python",
   "nbconvert_exporter": "python",
   "pygments_lexer": "ipython3",
   "version": "3.11.5"
  },
  "orig_nbformat": 4
 },
 "nbformat": 4,
 "nbformat_minor": 2
}
